{
 "cells": [
  {
   "cell_type": "code",
   "execution_count": 1,
   "id": "a05410cf-7ce2-4c0b-b890-8d7b5db30e4a",
   "metadata": {},
   "outputs": [],
   "source": [
    "import torch\n",
    "from supervoice.tokenizer import Tokenizer\n",
    "from supervoice.model import SupervoiceGPT\n",
    "from train_config import config"
   ]
  },
  {
   "cell_type": "code",
   "execution_count": 2,
   "id": "643b57d0-a798-4c58-ad76-4e97f417114d",
   "metadata": {},
   "outputs": [
    {
     "name": "stdout",
     "output_type": "stream",
     "text": [
      "ok\n"
     ]
    }
   ],
   "source": [
    "# Model\n",
    "tokenizer = Tokenizer(config, \"tokenizer_text.model\")\n",
    "model = SupervoiceGPT(config)\n",
    "# checkpoint = torch.load(f'./output/gpt_new_tokenizer.pt', map_location=\"cpu\")\n",
    "# model.load_state_dict(checkpoint['model'])\n",
    "model.eval()\n",
    "print('ok')"
   ]
  },
  {
   "cell_type": "code",
   "execution_count": 3,
   "id": "1d28b485-c49d-48b8-8ccc-d19b004b670a",
   "metadata": {},
   "outputs": [
    {
     "name": "stdout",
     "output_type": "stream",
     "text": [
      "[130, 8, 3, 89, 70]\n",
      "torch.Size([1, 8, 5, 64]) torch.Size([1, 8, 5, 64]) torch.Size([1, 8, 5, 64]) torch.Size([1, 8, 5, 5]) None torch.Size([1, 8, 5, 5])\n",
      "torch.Size([1, 8, 5, 64]) torch.Size([1, 8, 5, 64]) torch.Size([1, 8, 5, 64]) torch.Size([1, 8, 5, 5]) None torch.Size([1, 8, 5, 5])\n",
      "torch.Size([1, 8, 5, 64]) torch.Size([1, 8, 5, 64]) torch.Size([1, 8, 5, 64]) torch.Size([1, 8, 5, 5]) None torch.Size([1, 8, 5, 5])\n",
      "torch.Size([1, 8, 5, 64]) torch.Size([1, 8, 5, 64]) torch.Size([1, 8, 5, 64]) torch.Size([1, 8, 5, 5]) None torch.Size([1, 8, 5, 5])\n",
      "torch.Size([1, 8, 5, 64]) torch.Size([1, 8, 5, 64]) torch.Size([1, 8, 5, 64]) torch.Size([1, 8, 5, 5]) None torch.Size([1, 8, 5, 5])\n",
      "torch.Size([1, 8, 5, 64]) torch.Size([1, 8, 5, 64]) torch.Size([1, 8, 5, 64]) torch.Size([1, 8, 5, 5]) None torch.Size([1, 8, 5, 5])\n",
      "torch.Size([1, 8, 5, 64]) torch.Size([1, 8, 5, 64]) torch.Size([1, 8, 5, 64]) torch.Size([1, 8, 5, 5]) None torch.Size([1, 8, 5, 5])\n",
      "torch.Size([1, 8, 5, 64]) torch.Size([1, 8, 5, 64]) torch.Size([1, 8, 5, 64]) torch.Size([1, 8, 5, 5]) None torch.Size([1, 8, 5, 5])\n",
      "torch.Size([1, 8, 5, 64]) torch.Size([1, 8, 5, 64]) torch.Size([1, 8, 5, 64]) torch.Size([1, 8, 5, 5]) None torch.Size([1, 8, 5, 5])\n",
      "torch.Size([1, 8, 5, 64]) torch.Size([1, 8, 5, 64]) torch.Size([1, 8, 5, 64]) torch.Size([1, 8, 5, 5]) None torch.Size([1, 8, 5, 5])\n",
      "torch.Size([1, 8, 5, 64]) torch.Size([1, 8, 5, 64]) torch.Size([1, 8, 5, 64]) torch.Size([1, 8, 5, 5]) None torch.Size([1, 8, 5, 5])\n",
      "torch.Size([1, 8, 5, 64]) torch.Size([1, 8, 5, 64]) torch.Size([1, 8, 5, 64]) torch.Size([1, 8, 5, 5]) None torch.Size([1, 8, 5, 5])\n",
      "torch.Size([1, 8, 5, 64]) torch.Size([1, 8, 5, 64]) torch.Size([1, 8, 5, 64]) torch.Size([1, 8, 5, 5]) None torch.Size([1, 8, 5, 5])\n",
      "torch.Size([1, 8, 5, 64]) torch.Size([1, 8, 5, 64]) torch.Size([1, 8, 5, 64]) torch.Size([1, 8, 5, 5]) None torch.Size([1, 8, 5, 5])\n",
      "torch.Size([1, 8, 5, 64]) torch.Size([1, 8, 5, 64]) torch.Size([1, 8, 5, 64]) torch.Size([1, 8, 5, 5]) None torch.Size([1, 8, 5, 5])\n",
      "torch.Size([1, 8, 5, 64]) torch.Size([1, 8, 5, 64]) torch.Size([1, 8, 5, 64]) torch.Size([1, 8, 5, 5]) None torch.Size([1, 8, 5, 5])\n",
      "torch.Size([1, 8, 1, 64]) torch.Size([1, 8, 1, 64]) torch.Size([1, 8, 1, 64]) torch.Size([1, 8, 1, 1]) None torch.Size([1, 8, 1, 1])\n",
      "torch.Size([1, 8, 1, 64]) torch.Size([1, 8, 5, 64]) torch.Size([1, 8, 5, 64]) torch.Size([1, 8, 1, 1]) None torch.Size([1, 8, 1, 1])\n",
      "torch.Size([1, 8, 1, 64]) torch.Size([1, 8, 1, 64]) torch.Size([1, 8, 1, 64]) torch.Size([1, 8, 1, 1]) None torch.Size([1, 8, 1, 1])\n",
      "torch.Size([1, 8, 1, 64]) torch.Size([1, 8, 5, 64]) torch.Size([1, 8, 5, 64]) torch.Size([1, 8, 1, 1]) None torch.Size([1, 8, 1, 1])\n",
      "torch.Size([1, 8, 1, 64]) torch.Size([1, 8, 1, 64]) torch.Size([1, 8, 1, 64]) torch.Size([1, 8, 1, 1]) None torch.Size([1, 8, 1, 1])\n",
      "torch.Size([1, 8, 1, 64]) torch.Size([1, 8, 5, 64]) torch.Size([1, 8, 5, 64]) torch.Size([1, 8, 1, 1]) None torch.Size([1, 8, 1, 1])\n",
      "torch.Size([1, 8, 1, 64]) torch.Size([1, 8, 1, 64]) torch.Size([1, 8, 1, 64]) torch.Size([1, 8, 1, 1]) None torch.Size([1, 8, 1, 1])\n",
      "torch.Size([1, 8, 1, 64]) torch.Size([1, 8, 5, 64]) torch.Size([1, 8, 5, 64]) torch.Size([1, 8, 1, 1]) None torch.Size([1, 8, 1, 1])\n",
      "torch.Size([1, 8, 1, 64]) torch.Size([1, 8, 1, 64]) torch.Size([1, 8, 1, 64]) torch.Size([1, 8, 1, 1]) None torch.Size([1, 8, 1, 1])\n",
      "torch.Size([1, 8, 1, 64]) torch.Size([1, 8, 5, 64]) torch.Size([1, 8, 5, 64]) torch.Size([1, 8, 1, 1]) None torch.Size([1, 8, 1, 1])\n",
      "torch.Size([1, 8, 1, 64]) torch.Size([1, 8, 1, 64]) torch.Size([1, 8, 1, 64]) torch.Size([1, 8, 1, 1]) None torch.Size([1, 8, 1, 1])\n",
      "torch.Size([1, 8, 1, 64]) torch.Size([1, 8, 5, 64]) torch.Size([1, 8, 5, 64]) torch.Size([1, 8, 1, 1]) None torch.Size([1, 8, 1, 1])\n",
      "torch.Size([1, 8, 1, 64]) torch.Size([1, 8, 1, 64]) torch.Size([1, 8, 1, 64]) torch.Size([1, 8, 1, 1]) None torch.Size([1, 8, 1, 1])\n",
      "torch.Size([1, 8, 1, 64]) torch.Size([1, 8, 5, 64]) torch.Size([1, 8, 5, 64]) torch.Size([1, 8, 1, 1]) None torch.Size([1, 8, 1, 1])\n",
      "torch.Size([1, 8, 1, 64]) torch.Size([1, 8, 1, 64]) torch.Size([1, 8, 1, 64]) torch.Size([1, 8, 1, 1]) None torch.Size([1, 8, 1, 1])\n",
      "torch.Size([1, 8, 1, 64]) torch.Size([1, 8, 5, 64]) torch.Size([1, 8, 5, 64]) torch.Size([1, 8, 1, 1]) None torch.Size([1, 8, 1, 1])\n"
     ]
    },
    {
     "data": {
      "text/plain": [
       "(tensor([[[ 0.2842, -0.9189, -0.7536,  0.1486, -0.0055,  0.3042, -0.4398,\n",
       "            0.7212, -0.8405,  1.5148,  0.3908, -0.1441,  0.2597, -0.1853,\n",
       "           -0.0041,  0.4211,  0.8618,  0.5497,  0.2763, -0.2864, -1.1338,\n",
       "            0.2824,  0.4089,  0.7530,  0.2408,  0.4584,  0.5591,  0.1755,\n",
       "            0.0982, -0.6812,  0.6948,  0.0573,  0.7011, -0.7624, -0.3117,\n",
       "           -0.2928, -0.1470, -0.2190, -0.5588, -0.5852,  0.5778, -0.7713,\n",
       "            0.9088,  0.6781, -0.9020,  0.9384, -0.9956,  0.0784, -0.9907,\n",
       "            0.0812, -0.0756, -0.3568, -0.5063, -0.7981,  0.2721, -0.4653,\n",
       "           -0.0533,  0.1529, -0.6937, -0.5566, -0.4717, -0.3572, -0.9719,\n",
       "           -0.4071,  0.3265, -0.2753, -0.0451, -0.4535,  0.2416,  0.0815,\n",
       "           -0.4167,  0.0934, -0.0601,  0.6837,  0.4834,  0.4555, -0.1712,\n",
       "            0.0074, -0.7539, -0.5022, -0.6161, -0.5242,  0.6439,  0.3390,\n",
       "            0.1936, -0.4257,  0.1588,  0.4109, -0.5508, -0.1432, -0.4852,\n",
       "           -0.6020,  0.0828,  0.2735,  0.5945, -0.8255, -0.4561, -0.0857,\n",
       "           -0.4107, -0.4427, -1.1823,  0.5835,  0.3217, -0.0052,  0.2549]]],\n",
       "        grad_fn=<UnsafeViewBackward0>),\n",
       " tensor([[[ 0.1043,  0.6492,  0.0326, -1.0728,  0.4848,  0.3521,  0.0275,\n",
       "           -0.0891, -0.8788,  0.4052, -0.1174,  0.3737,  0.2311,  0.3233,\n",
       "            0.3954,  0.0109,  0.1342,  0.2781,  0.7129,  0.6000,  0.4050,\n",
       "            0.8991,  0.0084, -0.5986,  0.7077, -0.7233,  0.7131,  0.2391,\n",
       "           -0.1644, -0.0760, -0.0187, -0.3332,  0.7526,  0.7081, -0.1228,\n",
       "           -0.3220,  0.1595,  0.0278,  0.2068, -0.0563, -0.2682,  1.4968,\n",
       "            0.1088,  0.0392,  0.7551, -0.2907, -0.3480, -0.6929, -0.4368,\n",
       "            1.1437, -0.0050,  0.3588,  0.0545, -0.5439, -0.3212, -0.2343,\n",
       "           -0.6000,  1.0886, -0.3653, -1.1289,  0.1034,  0.3047, -1.4429,\n",
       "            0.6006,  0.0027, -0.0446,  0.9111,  0.3186, -0.0932, -0.2990,\n",
       "           -0.1846, -0.1152, -0.7445, -0.0736,  0.0678,  0.5065,  0.0471,\n",
       "           -0.2533,  0.3021,  0.3126, -1.1188, -0.3959,  0.0390, -0.2655,\n",
       "           -0.9232,  0.5095,  0.0162, -0.7243,  0.9955, -0.4701,  0.5616,\n",
       "            0.3098, -1.0226, -0.5326,  0.6736,  0.7623,  0.5853, -0.7030,\n",
       "            0.7386,  0.0063]]], grad_fn=<UnsafeViewBackward0>))"
      ]
     },
     "execution_count": 3,
     "metadata": {},
     "output_type": "execute_result"
    }
   ],
   "source": [
    "source = tokenizer.encode(\"What, time?\")\n",
    "print(source)\n",
    "\n",
    "model(input = torch.tensor(source).unsqueeze(0), output = torch.tensor([[0]]))"
   ]
  },
  {
   "cell_type": "code",
   "execution_count": 4,
   "id": "dd6c7833-e426-4c8b-81e3-364c512bd260",
   "metadata": {},
   "outputs": [],
   "source": [
    "# Prepare input\n",
    "# \"He was anxious to make this clear.\"\n",
    "# ç iː  w ə z  æ ɲ c ʃ ə s  t ə  m ej k  d̪ ɪ s  c ʎ ɪ ɹ\n",
    "input = \"what?\".lower()\n",
    "expected = \"\"\n",
    "tokenized = tokenizer.encode(input)\n",
    "tokenized = [tokenizer.sequence_begin_token_id, tokenizer.text_begin_token_id] + tokenized + [tokenizer.text_end_token_id, tokenizer.phonemes_begin_token_id]\n",
    "tokenized = torch.tensor(tokenized)\n",
    "stop_tokens = [tokenizer.sequence_end_token_id]\n",
    "max_generate_len = 512"
   ]
  },
  {
   "cell_type": "code",
   "execution_count": 5,
   "id": "bd933f16-70f0-456e-9faa-b1d17b9352e1",
   "metadata": {},
   "outputs": [
    {
     "ename": "AttributeError",
     "evalue": "'SupervoiceGPT' object has no attribute 'generate'",
     "output_type": "error",
     "traceback": [
      "\u001b[0;31m---------------------------------------------------------------------------\u001b[0m",
      "\u001b[0;31mAttributeError\u001b[0m                            Traceback (most recent call last)",
      "Cell \u001b[0;32mIn[5], line 3\u001b[0m\n\u001b[1;32m      1\u001b[0m \u001b[38;5;66;03m# Generate\u001b[39;00m\n\u001b[1;32m      2\u001b[0m \u001b[38;5;28minput\u001b[39m \u001b[38;5;241m=\u001b[39m tokenized\n\u001b[0;32m----> 3\u001b[0m res \u001b[38;5;241m=\u001b[39m \u001b[43mmodel\u001b[49m\u001b[38;5;241;43m.\u001b[39;49m\u001b[43mgenerate\u001b[49m(\u001b[38;5;28minput\u001b[39m\u001b[38;5;241m.\u001b[39munsqueeze(\u001b[38;5;241m0\u001b[39m), max_new_tokens \u001b[38;5;241m=\u001b[39m max_generate_len, stop_tokens \u001b[38;5;241m=\u001b[39m stop_tokens, top_k \u001b[38;5;241m=\u001b[39m \u001b[38;5;241m6\u001b[39m)\u001b[38;5;241m.\u001b[39msqueeze(\u001b[38;5;241m0\u001b[39m)\n\u001b[1;32m      4\u001b[0m res \u001b[38;5;241m=\u001b[39m res\u001b[38;5;241m.\u001b[39mtolist()\n\u001b[1;32m      5\u001b[0m \u001b[38;5;28mprint\u001b[39m(res)\n",
      "File \u001b[0;32m~/miniconda/envs/gym/lib/python3.10/site-packages/torch/nn/modules/module.py:1688\u001b[0m, in \u001b[0;36mModule.__getattr__\u001b[0;34m(self, name)\u001b[0m\n\u001b[1;32m   1686\u001b[0m     \u001b[38;5;28;01mif\u001b[39;00m name \u001b[38;5;129;01min\u001b[39;00m modules:\n\u001b[1;32m   1687\u001b[0m         \u001b[38;5;28;01mreturn\u001b[39;00m modules[name]\n\u001b[0;32m-> 1688\u001b[0m \u001b[38;5;28;01mraise\u001b[39;00m \u001b[38;5;167;01mAttributeError\u001b[39;00m(\u001b[38;5;124mf\u001b[39m\u001b[38;5;124m\"\u001b[39m\u001b[38;5;124m'\u001b[39m\u001b[38;5;132;01m{\u001b[39;00m\u001b[38;5;28mtype\u001b[39m(\u001b[38;5;28mself\u001b[39m)\u001b[38;5;241m.\u001b[39m\u001b[38;5;18m__name__\u001b[39m\u001b[38;5;132;01m}\u001b[39;00m\u001b[38;5;124m'\u001b[39m\u001b[38;5;124m object has no attribute \u001b[39m\u001b[38;5;124m'\u001b[39m\u001b[38;5;132;01m{\u001b[39;00mname\u001b[38;5;132;01m}\u001b[39;00m\u001b[38;5;124m'\u001b[39m\u001b[38;5;124m\"\u001b[39m)\n",
      "\u001b[0;31mAttributeError\u001b[0m: 'SupervoiceGPT' object has no attribute 'generate'"
     ]
    }
   ],
   "source": [
    "# Generate\n",
    "input = tokenized\n",
    "res = model.generate(input.unsqueeze(0), max_new_tokens = max_generate_len, stop_tokens = stop_tokens, top_k = 6).squeeze(0)\n",
    "res = res.tolist()\n",
    "print(res)\n",
    "print(tokenizer.decode(res).replace(\"•\", \"<SIL>\"))"
   ]
  },
  {
   "cell_type": "code",
   "execution_count": null,
   "id": "43998bd0-668e-4eee-bc3c-b2ddb3871c71",
   "metadata": {},
   "outputs": [],
   "source": [
    "# Generate\n",
    "# input = torch.tensor([tokenizer.phonemes_begin_token_id])\n",
    "input = tokenized\n",
    "total = 16\n",
    "probs, indices = model.predict_next(input, total, trim_generated = False)\n",
    "probs = probs.tolist()\n",
    "for i in range(total):\n",
    "    ttt = tokenizer.decode([indices.tolist()[i]])\n",
    "    print(str(indices[i]) + \": \" +ttt + \": \" + str(probs[i]))"
   ]
  },
  {
   "cell_type": "code",
   "execution_count": null,
   "id": "eb500bfa-f493-4b0a-947b-bc84f0727c92",
   "metadata": {},
   "outputs": [],
   "source": [
    "# Iterative\n",
    "input = tokenized"
   ]
  },
  {
   "cell_type": "code",
   "execution_count": null,
   "id": "185ce4ba-7e5c-45b6-b5fe-3a849f32eade",
   "metadata": {},
   "outputs": [],
   "source": [
    "total = 16\n",
    "probs, indices = model.predict_next(input, total, trim_generated = False)\n",
    "probs = probs.tolist()\n",
    "tokens = tokenizer.decode(indices.tolist())\n",
    "for i in range(total):\n",
    "    ttt = tokenizer.decode([indices.tolist()[i]])\n",
    "    print(str(indices[i]) + \": \" +ttt + \": \" + str(probs[i]))\n",
    "input = torch.tensor(input.tolist() + [indices[0]]).long()"
   ]
  },
  {
   "cell_type": "code",
   "execution_count": null,
   "id": "0047c49b-b7ae-4bf7-9700-8d19bdd4de83",
   "metadata": {},
   "outputs": [],
   "source": []
  }
 ],
 "metadata": {
  "kernelspec": {
   "display_name": "Python 3 (ipykernel)",
   "language": "python",
   "name": "python3"
  },
  "language_info": {
   "codemirror_mode": {
    "name": "ipython",
    "version": 3
   },
   "file_extension": ".py",
   "mimetype": "text/x-python",
   "name": "python",
   "nbconvert_exporter": "python",
   "pygments_lexer": "ipython3",
   "version": "3.10.13"
  }
 },
 "nbformat": 4,
 "nbformat_minor": 5
}
