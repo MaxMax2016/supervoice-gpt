{
 "cells": [
  {
   "cell_type": "code",
   "execution_count": 1,
   "id": "a05410cf-7ce2-4c0b-b890-8d7b5db30e4a",
   "metadata": {},
   "outputs": [],
   "source": [
    "import torch\n",
    "from supervoice.tokenizer import Tokenizer\n",
    "from supervoice.model import SupervoiceGPT\n",
    "from train_config import config"
   ]
  },
  {
   "cell_type": "code",
   "execution_count": 2,
   "id": "643b57d0-a798-4c58-ad76-4e97f417114d",
   "metadata": {},
   "outputs": [
    {
     "data": {
      "text/plain": [
       "SupervoiceGPT(\n",
       "  (input_embedding): Embedding(16384, 512)\n",
       "  (transformer): Transformer(\n",
       "    (layers): ModuleList(\n",
       "      (0-7): 8 x AttentionBlock(\n",
       "        (attention_ln): RMSNorm()\n",
       "        (attention): Linear(in_features=512, out_features=1536, bias=False)\n",
       "        (attention_output): Linear(in_features=512, out_features=512, bias=False)\n",
       "        (mlp_ln): RMSNorm()\n",
       "        (mlp_input): Linear(in_features=512, out_features=2048, bias=True)\n",
       "        (mlp_output): Linear(in_features=2048, out_features=512, bias=True)\n",
       "        (mlp_output_dropout): Dropout(p=0.1, inplace=False)\n",
       "      )\n",
       "    )\n",
       "    (skip_combiners): ModuleList()\n",
       "    (output_norm): RMSNorm()\n",
       "  )\n",
       "  (prediction_head): Linear(in_features=512, out_features=16384, bias=False)\n",
       ")"
      ]
     },
     "execution_count": 2,
     "metadata": {},
     "output_type": "execute_result"
    }
   ],
   "source": [
    "# Model\n",
    "tokenizer = Tokenizer(config, \"tokenizer.model\")\n",
    "model = SupervoiceGPT(config)\n",
    "checkpoint = torch.load(f'./output/gpt_new_tokenizer.pt', map_location=\"cpu\")\n",
    "model.load_state_dict(checkpoint['model'])\n",
    "model.eval()"
   ]
  },
  {
   "cell_type": "code",
   "execution_count": 8,
   "id": "dd6c7833-e426-4c8b-81e3-364c512bd260",
   "metadata": {},
   "outputs": [],
   "source": [
    "# Prepare input\n",
    "# \"He was anxious to make this clear.\"\n",
    "# ç iː  w ə z  æ ɲ c ʃ ə s  t ə  m ej k  d̪ ɪ s  c ʎ ɪ ɹ\n",
    "input = \"what?\".lower()\n",
    "expected = \"\"\n",
    "tokenized = tokenizer.encode(input)\n",
    "tokenized = [tokenizer.sequence_begin_token_id, tokenizer.text_begin_token_id] + tokenized + [tokenizer.text_end_token_id, tokenizer.phonemes_begin_token_id]\n",
    "tokenized = torch.tensor(tokenized)\n",
    "stop_tokens = [tokenizer.sequence_end_token_id]\n",
    "max_generate_len = 512"
   ]
  },
  {
   "cell_type": "code",
   "execution_count": 9,
   "id": "bd933f16-70f0-456e-9faa-b1d17b9352e1",
   "metadata": {},
   "outputs": [
    {
     "name": "stdout",
     "output_type": "stream",
     "text": [
      "[1, 3, 638, 423, 4, 5, 14, 156, 314, 314, 314, 443, 443, 443, 314, 314, 443, 443, 443, 443, 314, 443, 314, 396, 443, 443, 636, 443, 443, 636, 443, 636, 443, 443, 636, 443, 19, 19, 19, 19, 19, 19, 43, 19, 425, 314, 425, 443, 443, 443, 443, 443, 425, 443, 443, 443, 443, 443, 443, 443, 443, 443, 443, 443, 636, 6, 2]\n",
      "what?owowowowowowowowɛɛɛɛɛɛɛɛɛɹɹɹɹɹɹɹɹɹɹɹɹɹɹɹɹɹɹɹɹɹɹɹɹɹɹɹɹɹɹɹɹɹɹɹɹɹɹɹɹɹɹɒɒɒɒɒɒɒɒɒɒɒɒɒɒɒɒɒɒɒɒɒɒɒɒɒɒɒɒɒɒɒɒɒɹɹɹɹɹɹɹɹɹɹɹɹɹɹɹɹɹɹɹɹɹɹɹɹɹɹɹɹɒɒɒɒɒɒɒɒɒɒɒɒɒɒɒɒɒɒɒɒɒɒɒɒɒɒɒɒɒɒɒɒɒɒɒɒɒɒɒɒɒɒɒɒɹɹɹɹɹɹɹɹɹɹɹɹɹɹɒɒɒɒɒɒɒɒɒɒɒɹɹɹɹɹɹɹɹɹɹɹɹɹɹɫɫɫɫɫɫɒɒɒɒɒɒɒɒɒɒɒɒɒɒɒɒɒɒɒɒɒɒdjdjdjdjɒɒɒɒɒɒɒɒɒɒɒɒɒɒɒɒɒɒɒɒɒɒdjdjdjdjɒɒɒɒɒɒɒɒɒɒɒdjdjdjdjɒɒɒɒɒɒɒɒɒɒɒɒɒɒɒɒɒɒɒɒɒɒdjdjdjdjɒɒɒɒɒɒɒɒɒɒɒ and and and and and andssssssssssssss andææææææææææææææææɹɹɹɹɹɹɹɹɹɹɹɹɹɹææææææææææææææææɒɒɒɒɒɒɒɒɒɒɒɒɒɒɒɒɒɒɒɒɒɒɒɒɒɒɒɒɒɒɒɒɒɒɒɒɒɒɒɒɒɒɒɒɒɒɒɒɒɒɒɒɒɒɒææææææææææææææææɒɒɒɒɒɒɒɒɒɒɒɒɒɒɒɒɒɒɒɒɒɒɒɒɒɒɒɒɒɒɒɒɒɒɒɒɒɒɒɒɒɒɒɒɒɒɒɒɒɒɒɒɒɒɒɒɒɒɒɒɒɒɒɒɒɒɒɒɒɒɒɒɒɒɒɒɒɒɒɒɒɒɒɒɒɒɒɒɒɒɒɒɒɒɒɒɒɒɒɒɒɒɒɒɒɒɒɒɒɒɒɒɒɒɒɒɒɒɒɒɒdjdjdjdj\n"
     ]
    }
   ],
   "source": [
    "# Generate\n",
    "input = tokenized\n",
    "res = model.generate(input.unsqueeze(0), max_new_tokens = max_generate_len, stop_tokens = stop_tokens, top_k = 6).squeeze(0)\n",
    "res = res.tolist()\n",
    "print(res)\n",
    "print(tokenizer.decode(res).replace(\"•\", \"<SIL>\"))"
   ]
  },
  {
   "cell_type": "code",
   "execution_count": 5,
   "id": "43998bd0-668e-4eee-bc3c-b2ddb3871c71",
   "metadata": {},
   "outputs": [
    {
     "name": "stdout",
     "output_type": "stream",
     "text": [
      "tensor(14): owowowowowowowow: 0.819942057132721\n",
      "tensor(998): found: 0.012457217089831829\n",
      "tensor(1051): tjtjtjɪɪɪɪ: 0.008038206957280636\n",
      "tensor(1781): park: 0.006797855719923973\n",
      "tensor(165): ææææææææ: 0.006542442832142115\n",
      "tensor(142): this: 0.005550021305680275\n",
      "tensor(5214): wwwwɐɐɐ: 0.004891290329396725\n",
      "tensor(3800): ɪɪɪɪɪddd: 0.00474135298281908\n",
      "tensor(203): pppppppp: 0.0047226701863110065\n",
      "tensor(1286): band: 0.004326488822698593\n",
      "tensor(1816): at: 0.004147302359342575\n",
      "tensor(5095): ðððððððəəə: 0.003880544798448682\n",
      "tensor(7036): marked: 0.0035794831346720457\n",
      "tensor(2847): ççç: 0.003374258056282997\n",
      "tensor(2137): service: 0.0033320633228868246\n",
      "tensor(8457): ɑɑɑɑɑɑɑɑɑɑʔʔʔʔʔ: 0.0028107769321650267\n"
     ]
    }
   ],
   "source": [
    "# Generate\n",
    "# input = torch.tensor([tokenizer.phonemes_begin_token_id])\n",
    "input = tokenized\n",
    "total = 16\n",
    "probs, indices = model.predict_next(input, total, trim_generated = False)\n",
    "probs = probs.tolist()\n",
    "for i in range(total):\n",
    "    ttt = tokenizer.decode([indices.tolist()[i]])\n",
    "    print(str(indices[i]) + \": \" +ttt + \": \" + str(probs[i]))"
   ]
  },
  {
   "cell_type": "code",
   "execution_count": 6,
   "id": "eb500bfa-f493-4b0a-947b-bc84f0727c92",
   "metadata": {},
   "outputs": [],
   "source": [
    "# Iterative\n",
    "input = tokenized"
   ]
  },
  {
   "cell_type": "code",
   "execution_count": 7,
   "id": "185ce4ba-7e5c-45b6-b5fe-3a849f32eade",
   "metadata": {},
   "outputs": [
    {
     "name": "stdout",
     "output_type": "stream",
     "text": [
      "tensor(14): owowowowowowowow: 0.819942057132721\n",
      "tensor(998): found: 0.012457217089831829\n",
      "tensor(1051): tjtjtjɪɪɪɪ: 0.008038206957280636\n",
      "tensor(1781): park: 0.006797855719923973\n",
      "tensor(165): ææææææææ: 0.006542442832142115\n",
      "tensor(142): this: 0.005550021305680275\n",
      "tensor(5214): wwwwɐɐɐ: 0.004891290329396725\n",
      "tensor(3800): ɪɪɪɪɪddd: 0.00474135298281908\n",
      "tensor(203): pppppppp: 0.0047226701863110065\n",
      "tensor(1286): band: 0.004326488822698593\n",
      "tensor(1816): at: 0.004147302359342575\n",
      "tensor(5095): ðððððððəəə: 0.003880544798448682\n",
      "tensor(7036): marked: 0.0035794831346720457\n",
      "tensor(2847): ççç: 0.003374258056282997\n",
      "tensor(2137): service: 0.0033320633228868246\n",
      "tensor(8457): ɑɑɑɑɑɑɑɑɑɑʔʔʔʔʔ: 0.0028107769321650267\n"
     ]
    }
   ],
   "source": [
    "total = 16\n",
    "probs, indices = model.predict_next(input, total, trim_generated = False)\n",
    "probs = probs.tolist()\n",
    "tokens = tokenizer.decode(indices.tolist())\n",
    "for i in range(total):\n",
    "    ttt = tokenizer.decode([indices.tolist()[i]])\n",
    "    print(str(indices[i]) + \": \" +ttt + \": \" + str(probs[i]))\n",
    "input = torch.tensor(input.tolist() + [indices[0]]).long()"
   ]
  },
  {
   "cell_type": "code",
   "execution_count": null,
   "id": "0047c49b-b7ae-4bf7-9700-8d19bdd4de83",
   "metadata": {},
   "outputs": [],
   "source": []
  }
 ],
 "metadata": {
  "kernelspec": {
   "display_name": "Python 3 (ipykernel)",
   "language": "python",
   "name": "python3"
  },
  "language_info": {
   "codemirror_mode": {
    "name": "ipython",
    "version": 3
   },
   "file_extension": ".py",
   "mimetype": "text/x-python",
   "name": "python",
   "nbconvert_exporter": "python",
   "pygments_lexer": "ipython3",
   "version": "3.10.13"
  }
 },
 "nbformat": 4,
 "nbformat_minor": 5
}
