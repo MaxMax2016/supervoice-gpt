{
 "cells": [
  {
   "cell_type": "code",
   "execution_count": 1,
   "id": "a05410cf-7ce2-4c0b-b890-8d7b5db30e4a",
   "metadata": {},
   "outputs": [],
   "source": [
    "import torch\n",
    "from supervoice.tokenizer import Tokenizer\n",
    "from supervoice.model import SupervoiceGPT\n",
    "from train_config import config"
   ]
  },
  {
   "cell_type": "code",
   "execution_count": 2,
   "id": "643b57d0-a798-4c58-ad76-4e97f417114d",
   "metadata": {},
   "outputs": [
    {
     "data": {
      "text/plain": [
       "SupervoiceGPT(\n",
       "  (input_embedding): Embedding(916, 512)\n",
       "  (transformer): Transformer(\n",
       "    (layers): ModuleList(\n",
       "      (0-7): 8 x AttentionBlock(\n",
       "        (attention_ln): RMSNorm()\n",
       "        (attention): Linear(in_features=512, out_features=1536, bias=False)\n",
       "        (attention_output): Linear(in_features=512, out_features=512, bias=False)\n",
       "        (mlp_ln): RMSNorm()\n",
       "        (mlp_input): Linear(in_features=512, out_features=2048, bias=True)\n",
       "        (mlp_output): Linear(in_features=2048, out_features=512, bias=True)\n",
       "        (mlp_output_dropout): Dropout(p=0.1, inplace=False)\n",
       "      )\n",
       "    )\n",
       "    (skip_combiners): ModuleList()\n",
       "    (output_norm): RMSNorm()\n",
       "  )\n",
       "  (prediction_head): Linear(in_features=512, out_features=916, bias=False)\n",
       ")"
      ]
     },
     "execution_count": 2,
     "metadata": {},
     "output_type": "execute_result"
    }
   ],
   "source": [
    "# Model\n",
    "tokenizer = Tokenizer(config)\n",
    "model = SupervoiceGPT(config)\n",
    "checkpoint = torch.load(f'./output/gpt_first.pt', map_location=\"cpu\")\n",
    "model.load_state_dict(checkpoint['model'])\n",
    "model.eval()"
   ]
  },
  {
   "cell_type": "code",
   "execution_count": 7,
   "id": "dd6c7833-e426-4c8b-81e3-364c512bd260",
   "metadata": {},
   "outputs": [],
   "source": [
    "# Prepare input\n",
    "input = \"It's too close to call.\".lower()\n",
    "tokenized = tokenizer(list(input)).tolist()\n",
    "tokenized = [tokenizer.sequence_begin_token_id, tokenizer.text_begin_token_id] + tokenized + [tokenizer.text_end_token_id, tokenizer.phonemes_begin_token_id]\n",
    "tokenized = torch.tensor(tokenized)\n",
    "stop_tokens = [tokenizer.sequence_end_token_id]\n",
    "max_generate_len = 512"
   ]
  },
  {
   "cell_type": "code",
   "execution_count": 8,
   "id": "bd933f16-70f0-456e-9faa-b1d17b9352e1",
   "metadata": {},
   "outputs": [
    {
     "name": "stdout",
     "output_type": "stream",
     "text": [
      "tensor([  3,   5, 796, 807, 774, 806, 769, 807, 802, 802, 769, 790, 799, 802,\n",
      "        806, 792, 769, 807, 802, 769, 790, 788, 799, 799, 779,   6,   7,  99,\n",
      "         99,  99,  99,  99,  99,  99,  99,  99,  99,  99,  99,  99,  99, 179,\n",
      "        179, 179, 179, 179, 179, 179, 179, 179, 179, 179, 179, 179, 744, 744,\n",
      "        744, 744, 744, 744, 744, 744, 744, 744, 744, 744, 744, 744, 744, 744,\n",
      "        744, 179, 179, 179, 179, 179, 179, 179, 179, 179, 179, 179, 179, 179,\n",
      "        179, 179, 179, 179,   1,   1,   1,   1,   1,   1,   1,   1,   1,   1,\n",
      "          1,   1,   1,   1,   1,   1,   1,   1,   1,   1,   1,   1,   1,   1,\n",
      "          1,   1,   1,   1,   1,   1,   1,   1,   1,   1,   1,   1,   1,   1,\n",
      "          1,   1,   1,   1,   1,   1,   1,   1,   1,   1,   1,   1,   1,   1,\n",
      "          1,   1,   1,   1,   1,   1,   1,   1,   1,   1,   1,   1,   1,   1,\n",
      "        450, 450, 450, 450, 450, 450, 450, 450, 450, 450, 450, 450, 450, 450,\n",
      "        450, 450, 450, 450, 450, 450, 450, 450, 450, 450, 450, 450, 596, 596,\n",
      "        596, 596, 596, 596, 596, 704, 704, 704, 704, 704, 704, 704, 655, 655,\n",
      "        655, 655, 655, 655, 655, 655, 655, 655,  94,  94,  94,  94,  94,  94,\n",
      "         94,  94,  94,  94,  94,  94,  94,   1,   1,   1,   1,   1,   1,   1,\n",
      "          1,   1,   1,   1,   1,   1,   1,   1,   1,   1,   1,   1,   1,   1,\n",
      "          1,   1,   1,   1,   1,   1,   1,   1,   1,   1,   1,   1,   1,   1,\n",
      "          1,   1,   1,   1,   1,  99,  99,  99,  99,  99,  99, 111, 111, 111,\n",
      "        111, 111, 111, 111, 111, 111, 111, 111, 111, 111, 111, 111,   1,   1,\n",
      "          1,   1,   1,   1,   1,   1,   1,   1,   1,   1,   1,   1,   1,   1,\n",
      "          1,   1,   1,   1,   1,   1,   1,   1,   1, 655, 655, 655, 655, 655,\n",
      "        655, 655, 655, 655, 655, 655, 655, 655, 655, 655, 765, 765, 765, 765,\n",
      "        765, 765, 765, 765, 765, 663, 663, 663, 663, 663, 663, 663, 663, 663,\n",
      "        663, 663, 663, 663, 663, 663, 663, 663, 663,   8,   4])\n",
      "['<S>', '<T>', 'i', 't', \"'\", 's', ' ', 't', 'o', 'o', ' ', 'c', 'l', 'o', 's', 'e', ' ', 't', 'o', ' ', 'c', 'a', 'l', 'l', '.', '</T>', '<P>', 'd̪', 'd̪', 'd̪', 'd̪', 'd̪', 'd̪', 'd̪', 'd̪', 'd̪', 'd̪', 'd̪', 'd̪', 'd̪', 'd̪', 'iː', 'iː', 'iː', 'iː', 'iː', 'iː', 'iː', 'iː', 'iː', 'iː', 'iː', 'iː', 'iː', 'ʎ', 'ʎ', 'ʎ', 'ʎ', 'ʎ', 'ʎ', 'ʎ', 'ʎ', 'ʎ', 'ʎ', 'ʎ', 'ʎ', 'ʎ', 'ʎ', 'ʎ', 'ʎ', 'ʎ', 'iː', 'iː', 'iː', 'iː', 'iː', 'iː', 'iː', 'iː', 'iː', 'iː', 'iː', 'iː', 'iː', 'iː', 'iː', 'iː', 'iː', '<SIL>', '<SIL>', '<SIL>', '<SIL>', '<SIL>', '<SIL>', '<SIL>', '<SIL>', '<SIL>', '<SIL>', '<SIL>', '<SIL>', '<SIL>', '<SIL>', '<SIL>', '<SIL>', '<SIL>', '<SIL>', '<SIL>', '<SIL>', '<SIL>', '<SIL>', '<SIL>', '<SIL>', '<SIL>', '<SIL>', '<SIL>', '<SIL>', '<SIL>', '<SIL>', '<SIL>', '<SIL>', '<SIL>', '<SIL>', '<SIL>', '<SIL>', '<SIL>', '<SIL>', '<SIL>', '<SIL>', '<SIL>', '<SIL>', '<SIL>', '<SIL>', '<SIL>', '<SIL>', '<SIL>', '<SIL>', '<SIL>', '<SIL>', '<SIL>', '<SIL>', '<SIL>', '<SIL>', '<SIL>', '<SIL>', '<SIL>', '<SIL>', '<SIL>', '<SIL>', '<SIL>', '<SIL>', '<SIL>', '<SIL>', '<SIL>', '<SIL>', 'æ', 'æ', 'æ', 'æ', 'æ', 'æ', 'æ', 'æ', 'æ', 'æ', 'æ', 'æ', 'æ', 'æ', 'æ', 'æ', 'æ', 'æ', 'æ', 'æ', 'æ', 'æ', 'æ', 'æ', 'æ', 'æ', 'ɡ', 'ɡ', 'ɡ', 'ɡ', 'ɡ', 'ɡ', 'ɡ', 'ɹ', 'ɹ', 'ɹ', 'ɹ', 'ɹ', 'ɹ', 'ɹ', 'ɪ', 'ɪ', 'ɪ', 'ɪ', 'ɪ', 'ɪ', 'ɪ', 'ɪ', 'ɪ', 'ɪ', 'dʒ', 'dʒ', 'dʒ', 'dʒ', 'dʒ', 'dʒ', 'dʒ', 'dʒ', 'dʒ', 'dʒ', 'dʒ', 'dʒ', 'dʒ', '<SIL>', '<SIL>', '<SIL>', '<SIL>', '<SIL>', '<SIL>', '<SIL>', '<SIL>', '<SIL>', '<SIL>', '<SIL>', '<SIL>', '<SIL>', '<SIL>', '<SIL>', '<SIL>', '<SIL>', '<SIL>', '<SIL>', '<SIL>', '<SIL>', '<SIL>', '<SIL>', '<SIL>', '<SIL>', '<SIL>', '<SIL>', '<SIL>', '<SIL>', '<SIL>', '<SIL>', '<SIL>', '<SIL>', '<SIL>', '<SIL>', '<SIL>', '<SIL>', '<SIL>', '<SIL>', '<SIL>', 'd̪', 'd̪', 'd̪', 'd̪', 'd̪', 'd̪', 'ej', 'ej', 'ej', 'ej', 'ej', 'ej', 'ej', 'ej', 'ej', 'ej', 'ej', 'ej', 'ej', 'ej', 'ej', '<SIL>', '<SIL>', '<SIL>', '<SIL>', '<SIL>', '<SIL>', '<SIL>', '<SIL>', '<SIL>', '<SIL>', '<SIL>', '<SIL>', '<SIL>', '<SIL>', '<SIL>', '<SIL>', '<SIL>', '<SIL>', '<SIL>', '<SIL>', '<SIL>', '<SIL>', '<SIL>', '<SIL>', '<SIL>', 'ɪ', 'ɪ', 'ɪ', 'ɪ', 'ɪ', 'ɪ', 'ɪ', 'ɪ', 'ɪ', 'ɪ', 'ɪ', 'ɪ', 'ɪ', 'ɪ', 'ɪ', 'ʔ', 'ʔ', 'ʔ', 'ʔ', 'ʔ', 'ʔ', 'ʔ', 'ʔ', 'ʔ', 'ɫ', 'ɫ', 'ɫ', 'ɫ', 'ɫ', 'ɫ', 'ɫ', 'ɫ', 'ɫ', 'ɫ', 'ɫ', 'ɫ', 'ɫ', 'ɫ', 'ɫ', 'ɫ', 'ɫ', 'ɫ', '</P>', '</S>']\n"
     ]
    }
   ],
   "source": [
    "# Generate\n",
    "input = tokenized\n",
    "res = model.generate(input.unsqueeze(0), max_new_tokens = max_generate_len, stop_tokens = stop_tokens).squeeze(0)\n",
    "print(res)\n",
    "print(tokenizer.reverse(res.tolist()))"
   ]
  },
  {
   "cell_type": "code",
   "execution_count": null,
   "id": "43998bd0-668e-4eee-bc3c-b2ddb3871c71",
   "metadata": {},
   "outputs": [],
   "source": [
    "# Generate\n",
    "input = tokenized\n",
    "res = model.generate(input.unsqueeze(0), max_new_tokens = max_generate_len, stop_tokens = stop_tokens).squeeze(0)\n",
    "print(res)\n",
    "print(tokenizer.reverse(res.tolist()))"
   ]
  }
 ],
 "metadata": {
  "kernelspec": {
   "display_name": "Python 3 (ipykernel)",
   "language": "python",
   "name": "python3"
  },
  "language_info": {
   "codemirror_mode": {
    "name": "ipython",
    "version": 3
   },
   "file_extension": ".py",
   "mimetype": "text/x-python",
   "name": "python",
   "nbconvert_exporter": "python",
   "pygments_lexer": "ipython3",
   "version": "3.10.13"
  }
 },
 "nbformat": 4,
 "nbformat_minor": 5
}
