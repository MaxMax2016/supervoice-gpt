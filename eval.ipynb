{
 "cells": [
  {
   "cell_type": "code",
   "execution_count": 1,
   "id": "a05410cf-7ce2-4c0b-b890-8d7b5db30e4a",
   "metadata": {},
   "outputs": [],
   "source": [
    "import torch\n",
    "from supervoice.tokenizer import Tokenizer\n",
    "from supervoice.model import SupervoiceGPT\n",
    "from train_config import config"
   ]
  },
  {
   "cell_type": "code",
   "execution_count": 2,
   "id": "643b57d0-a798-4c58-ad76-4e97f417114d",
   "metadata": {},
   "outputs": [
    {
     "ename": "RuntimeError",
     "evalue": "Error(s) in loading state_dict for SupervoiceGPT:\n\tsize mismatch for input_embedding.weight: copying a param with shape torch.Size([916, 512]) from checkpoint, the shape in current model is torch.Size([16384, 512]).\n\tsize mismatch for prediction_head.weight: copying a param with shape torch.Size([916, 512]) from checkpoint, the shape in current model is torch.Size([16384, 512]).",
     "output_type": "error",
     "traceback": [
      "\u001b[0;31m---------------------------------------------------------------------------\u001b[0m",
      "\u001b[0;31mRuntimeError\u001b[0m                              Traceback (most recent call last)",
      "Cell \u001b[0;32mIn[2], line 5\u001b[0m\n\u001b[1;32m      3\u001b[0m model \u001b[38;5;241m=\u001b[39m SupervoiceGPT(config)\n\u001b[1;32m      4\u001b[0m checkpoint \u001b[38;5;241m=\u001b[39m torch\u001b[38;5;241m.\u001b[39mload(\u001b[38;5;124mf\u001b[39m\u001b[38;5;124m'\u001b[39m\u001b[38;5;124m./output/gpt_first.pt\u001b[39m\u001b[38;5;124m'\u001b[39m, map_location\u001b[38;5;241m=\u001b[39m\u001b[38;5;124m\"\u001b[39m\u001b[38;5;124mcpu\u001b[39m\u001b[38;5;124m\"\u001b[39m)\n\u001b[0;32m----> 5\u001b[0m \u001b[43mmodel\u001b[49m\u001b[38;5;241;43m.\u001b[39;49m\u001b[43mload_state_dict\u001b[49m\u001b[43m(\u001b[49m\u001b[43mcheckpoint\u001b[49m\u001b[43m[\u001b[49m\u001b[38;5;124;43m'\u001b[39;49m\u001b[38;5;124;43mmodel\u001b[39;49m\u001b[38;5;124;43m'\u001b[39;49m\u001b[43m]\u001b[49m\u001b[43m)\u001b[49m\n\u001b[1;32m      6\u001b[0m model\u001b[38;5;241m.\u001b[39meval()\n",
      "File \u001b[0;32m~/miniconda/envs/gym/lib/python3.10/site-packages/torch/nn/modules/module.py:2153\u001b[0m, in \u001b[0;36mModule.load_state_dict\u001b[0;34m(self, state_dict, strict, assign)\u001b[0m\n\u001b[1;32m   2148\u001b[0m         error_msgs\u001b[38;5;241m.\u001b[39minsert(\n\u001b[1;32m   2149\u001b[0m             \u001b[38;5;241m0\u001b[39m, \u001b[38;5;124m'\u001b[39m\u001b[38;5;124mMissing key(s) in state_dict: \u001b[39m\u001b[38;5;132;01m{}\u001b[39;00m\u001b[38;5;124m. \u001b[39m\u001b[38;5;124m'\u001b[39m\u001b[38;5;241m.\u001b[39mformat(\n\u001b[1;32m   2150\u001b[0m                 \u001b[38;5;124m'\u001b[39m\u001b[38;5;124m, \u001b[39m\u001b[38;5;124m'\u001b[39m\u001b[38;5;241m.\u001b[39mjoin(\u001b[38;5;124mf\u001b[39m\u001b[38;5;124m'\u001b[39m\u001b[38;5;124m\"\u001b[39m\u001b[38;5;132;01m{\u001b[39;00mk\u001b[38;5;132;01m}\u001b[39;00m\u001b[38;5;124m\"\u001b[39m\u001b[38;5;124m'\u001b[39m \u001b[38;5;28;01mfor\u001b[39;00m k \u001b[38;5;129;01min\u001b[39;00m missing_keys)))\n\u001b[1;32m   2152\u001b[0m \u001b[38;5;28;01mif\u001b[39;00m \u001b[38;5;28mlen\u001b[39m(error_msgs) \u001b[38;5;241m>\u001b[39m \u001b[38;5;241m0\u001b[39m:\n\u001b[0;32m-> 2153\u001b[0m     \u001b[38;5;28;01mraise\u001b[39;00m \u001b[38;5;167;01mRuntimeError\u001b[39;00m(\u001b[38;5;124m'\u001b[39m\u001b[38;5;124mError(s) in loading state_dict for \u001b[39m\u001b[38;5;132;01m{}\u001b[39;00m\u001b[38;5;124m:\u001b[39m\u001b[38;5;130;01m\\n\u001b[39;00m\u001b[38;5;130;01m\\t\u001b[39;00m\u001b[38;5;132;01m{}\u001b[39;00m\u001b[38;5;124m'\u001b[39m\u001b[38;5;241m.\u001b[39mformat(\n\u001b[1;32m   2154\u001b[0m                        \u001b[38;5;28mself\u001b[39m\u001b[38;5;241m.\u001b[39m\u001b[38;5;18m__class__\u001b[39m\u001b[38;5;241m.\u001b[39m\u001b[38;5;18m__name__\u001b[39m, \u001b[38;5;124m\"\u001b[39m\u001b[38;5;130;01m\\n\u001b[39;00m\u001b[38;5;130;01m\\t\u001b[39;00m\u001b[38;5;124m\"\u001b[39m\u001b[38;5;241m.\u001b[39mjoin(error_msgs)))\n\u001b[1;32m   2155\u001b[0m \u001b[38;5;28;01mreturn\u001b[39;00m _IncompatibleKeys(missing_keys, unexpected_keys)\n",
      "\u001b[0;31mRuntimeError\u001b[0m: Error(s) in loading state_dict for SupervoiceGPT:\n\tsize mismatch for input_embedding.weight: copying a param with shape torch.Size([916, 512]) from checkpoint, the shape in current model is torch.Size([16384, 512]).\n\tsize mismatch for prediction_head.weight: copying a param with shape torch.Size([916, 512]) from checkpoint, the shape in current model is torch.Size([16384, 512])."
     ]
    }
   ],
   "source": [
    "# Model\n",
    "tokenizer = Tokenizer(config, \"tokenizer.model\")\n",
    "model = SupervoiceGPT(config)\n",
    "checkpoint = torch.load(f'./output/gpt_first.pt', map_location=\"cpu\")\n",
    "model.load_state_dict(checkpoint['model'])\n",
    "model.eval()"
   ]
  },
  {
   "cell_type": "code",
   "execution_count": null,
   "id": "dd6c7833-e426-4c8b-81e3-364c512bd260",
   "metadata": {},
   "outputs": [],
   "source": [
    "# Prepare input\n",
    "# \"He was anxious to make this clear.\"\n",
    "# ç iː  w ə z  æ ɲ c ʃ ə s  t ə  m ej k  d̪ ɪ s  c ʎ ɪ ɹ\n",
    "input = \"hey, you, what time is it?\".lower()\n",
    "expected = \"\"\n",
    "tokenized = tokenizer(input).tolist()\n",
    "tokenized = [tokenizer.sequence_begin_token_id, tokenizer.text_begin_token_id] + tokenized + [tokenizer.text_end_token_id, tokenizer.phonemes_begin_token_id]\n",
    "tokenized = torch.tensor(tokenized)\n",
    "stop_tokens = [tokenizer.sequence_end_token_id]\n",
    "max_generate_len = 512"
   ]
  },
  {
   "cell_type": "code",
   "execution_count": null,
   "id": "bd933f16-70f0-456e-9faa-b1d17b9352e1",
   "metadata": {},
   "outputs": [],
   "source": [
    "# Generate\n",
    "input = tokenized\n",
    "res = model.generate(input.unsqueeze(0), max_new_tokens = max_generate_len, stop_tokens = stop_tokens, top_k = 6).squeeze(0)\n",
    "res = res.tolist()\n",
    "print(res)\n",
    "print(tokenizer.decode(res))"
   ]
  },
  {
   "cell_type": "code",
   "execution_count": null,
   "id": "43998bd0-668e-4eee-bc3c-b2ddb3871c71",
   "metadata": {},
   "outputs": [],
   "source": [
    "# Generate\n",
    "# input = torch.tensor([tokenizer.phonemes_begin_token_id])\n",
    "input = tokenized\n",
    "total = 16\n",
    "probs, indices = model.predict_next(input, total, trim_generated = False)\n",
    "probs = probs.tolist()\n",
    "tokens = tokenizer.reverse(indices.tolist())\n",
    "for i in range(total):\n",
    "    print(tokens[i] + \": \" + str(probs[i]))"
   ]
  },
  {
   "cell_type": "code",
   "execution_count": null,
   "id": "eb500bfa-f493-4b0a-947b-bc84f0727c92",
   "metadata": {},
   "outputs": [],
   "source": [
    "# Iterative\n",
    "input = tokenized"
   ]
  },
  {
   "cell_type": "code",
   "execution_count": null,
   "id": "185ce4ba-7e5c-45b6-b5fe-3a849f32eade",
   "metadata": {},
   "outputs": [],
   "source": [
    "total = 16\n",
    "probs, indices = model.predict_next(input, total, trim_generated = False)\n",
    "probs = probs.tolist()\n",
    "tokens = tokenizer.reverse(indices.tolist())\n",
    "for i in range(total):\n",
    "    print(tokens[i] + \": \" + str(probs[i]))\n",
    "input = torch.tensor(input.tolist() + [indices[0]]).long()"
   ]
  },
  {
   "cell_type": "code",
   "execution_count": null,
   "id": "0047c49b-b7ae-4bf7-9700-8d19bdd4de83",
   "metadata": {},
   "outputs": [],
   "source": []
  }
 ],
 "metadata": {
  "kernelspec": {
   "display_name": "Python 3 (ipykernel)",
   "language": "python",
   "name": "python3"
  },
  "language_info": {
   "codemirror_mode": {
    "name": "ipython",
    "version": 3
   },
   "file_extension": ".py",
   "mimetype": "text/x-python",
   "name": "python",
   "nbconvert_exporter": "python",
   "pygments_lexer": "ipython3",
   "version": "3.10.13"
  }
 },
 "nbformat": 4,
 "nbformat_minor": 5
}
